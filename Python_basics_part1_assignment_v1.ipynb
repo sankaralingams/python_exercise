{
 "cells": [
  {
   "cell_type": "markdown",
   "id": "b491091a",
   "metadata": {},
   "source": [
    "### Q1.\tGet the input for 2 variables though “input” function and pass them to a function to return the addition of two variables"
   ]
  },
  {
   "cell_type": "code",
   "execution_count": 29,
   "id": "1efaa641",
   "metadata": {},
   "outputs": [
    {
     "name": "stdout",
     "output_type": "stream",
     "text": [
      "enter value 1: 2\n",
      "enter value 2: 3\n",
      "Sum of 2 values:  5\n"
     ]
    }
   ],
   "source": [
    "def fun_add(a,b):\n",
    "    \"\"\"Function to add 2 values\"\"\"\n",
    "    return a+b\n",
    "x=int(input(\"enter value 1: \"))\n",
    "y=int(input(\"enter value 2: \"))\n",
    "print(\"Sum of 2 values: \",fun_add(x,y))"
   ]
  },
  {
   "cell_type": "markdown",
   "id": "806ef68e",
   "metadata": {},
   "source": [
    "### Q2. What happens if we try to add an int with str and vice versa. Please print out the error"
   ]
  },
  {
   "cell_type": "code",
   "execution_count": 11,
   "id": "f47b5cc6",
   "metadata": {},
   "outputs": [
    {
     "ename": "TypeError",
     "evalue": "unsupported operand type(s) for +: 'int' and 'str'",
     "output_type": "error",
     "traceback": [
      "\u001b[1;31m---------------------------------------------------------------------------\u001b[0m",
      "\u001b[1;31mTypeError\u001b[0m                                 Traceback (most recent call last)",
      "\u001b[1;32m~\\AppData\\Local\\Temp/ipykernel_12812/2556646640.py\u001b[0m in \u001b[0;36m<module>\u001b[1;34m\u001b[0m\n\u001b[1;32m----> 1\u001b[1;33m \u001b[1;36m5\u001b[0m\u001b[1;33m+\u001b[0m\u001b[1;34m\"test\"\u001b[0m\u001b[1;33m\u001b[0m\u001b[1;33m\u001b[0m\u001b[0m\n\u001b[0m",
      "\u001b[1;31mTypeError\u001b[0m: unsupported operand type(s) for +: 'int' and 'str'"
     ]
    }
   ],
   "source": [
    "5+\"test\""
   ]
  },
  {
   "cell_type": "code",
   "execution_count": 9,
   "id": "262bf123",
   "metadata": {},
   "outputs": [
    {
     "ename": "TypeError",
     "evalue": "can only concatenate str (not \"int\") to str",
     "output_type": "error",
     "traceback": [
      "\u001b[1;31m---------------------------------------------------------------------------\u001b[0m",
      "\u001b[1;31mTypeError\u001b[0m                                 Traceback (most recent call last)",
      "\u001b[1;32m~\\AppData\\Local\\Temp/ipykernel_12812/3956602963.py\u001b[0m in \u001b[0;36m<module>\u001b[1;34m\u001b[0m\n\u001b[1;32m----> 1\u001b[1;33m \u001b[1;34m\"Test\"\u001b[0m\u001b[1;33m+\u001b[0m\u001b[1;36m5\u001b[0m\u001b[1;33m\u001b[0m\u001b[1;33m\u001b[0m\u001b[0m\n\u001b[0m",
      "\u001b[1;31mTypeError\u001b[0m: can only concatenate str (not \"int\") to str"
     ]
    }
   ],
   "source": [
    "\"Test\"+5"
   ]
  },
  {
   "cell_type": "markdown",
   "id": "5d5b133f",
   "metadata": {},
   "source": [
    "### Q3.\tCreate a string variable for the word “Data Science” and see if the letter “s” is present in it using membership operators"
   ]
  },
  {
   "cell_type": "code",
   "execution_count": 13,
   "id": "3c0378bd",
   "metadata": {},
   "outputs": [
    {
     "name": "stdout",
     "output_type": "stream",
     "text": [
      "False\n",
      "True\n"
     ]
    }
   ],
   "source": [
    "str1=\"Data Science\"\n",
    "print('s' in str1)\n",
    "print('S' in str1)"
   ]
  },
  {
   "cell_type": "markdown",
   "id": "4919f39d",
   "metadata": {},
   "source": [
    "### Q4. Write a function and pass a number list as an argument to the function. And return True if the first and last number of a given list is same. If numbers are different then return False"
   ]
  },
  {
   "cell_type": "code",
   "execution_count": 40,
   "id": "7732de49",
   "metadata": {},
   "outputs": [
    {
     "data": {
      "text/plain": [
       "False"
      ]
     },
     "execution_count": 40,
     "metadata": {},
     "output_type": "execute_result"
    }
   ],
   "source": [
    "def fun_lis(ll):\n",
    "    \"\"\"Function to check if 1st and last number in the list are same\"\"\"\n",
    "    lent=len(ll)\n",
    "    if ll[0]==ll[lent-1]:\n",
    "        return True\n",
    "    else:\n",
    "        return False\n",
    "\n",
    "fun_lis([3,4,7,5])\n",
    "   \n",
    "        "
   ]
  },
  {
   "cell_type": "code",
   "execution_count": 41,
   "id": "efd18e32",
   "metadata": {},
   "outputs": [
    {
     "data": {
      "text/plain": [
       "True"
      ]
     },
     "execution_count": 41,
     "metadata": {},
     "output_type": "execute_result"
    }
   ],
   "source": [
    "fun_lis([3,4,7,3])"
   ]
  },
  {
   "cell_type": "markdown",
   "id": "24960a48",
   "metadata": {},
   "source": [
    "### Q5.\tIterate the given list of numbers (l1) and print only those numbers which are divisible by 5. (l1 = [10, 20, 33, 46, 55])"
   ]
  },
  {
   "cell_type": "code",
   "execution_count": 46,
   "id": "1fee61a8",
   "metadata": {},
   "outputs": [
    {
     "name": "stdout",
     "output_type": "stream",
     "text": [
      "10\n",
      "20\n",
      "55\n"
     ]
    }
   ],
   "source": [
    "l1=[10,20,33,46,55]\n",
    "for x in l1:\n",
    "    if x%5 ==0:\n",
    "        print(x)\n",
    "    else:\n",
    "        continue\n"
   ]
  },
  {
   "cell_type": "markdown",
   "id": "a3f9313f",
   "metadata": {},
   "source": [
    "### Q6.\tWrite a program to create function calculation() such that it can accept two variables and calculate addition and subtraction. Also, it must return both addition and subtraction in a single return call."
   ]
  },
  {
   "cell_type": "code",
   "execution_count": 48,
   "id": "bef9e7c0",
   "metadata": {},
   "outputs": [
    {
     "data": {
      "text/plain": [
       "(8, 2)"
      ]
     },
     "execution_count": 48,
     "metadata": {},
     "output_type": "execute_result"
    }
   ],
   "source": [
    "def fun_calc(t,r):\n",
    "    \"\"\"Function for addition and subtraction\"\"\"\n",
    "    return t+r, t-r\n",
    "\n",
    "fun_calc(5,3)"
   ]
  },
  {
   "cell_type": "markdown",
   "id": "62c3fa32",
   "metadata": {},
   "source": [
    "### Q7. Write a program to demonstrate the following Syntax error \n",
    "a.\tSyntaxError: non-default argument follows default argument\n"
   ]
  },
  {
   "cell_type": "code",
   "execution_count": 49,
   "id": "ec6904d3",
   "metadata": {},
   "outputs": [
    {
     "ename": "SyntaxError",
     "evalue": "non-default argument follows default argument (Temp/ipykernel_12812/1175456905.py, line 1)",
     "output_type": "error",
     "traceback": [
      "\u001b[1;36m  File \u001b[1;32m\"C:\\Users\\Admin\\AppData\\Local\\Temp/ipykernel_12812/1175456905.py\"\u001b[1;36m, line \u001b[1;32m1\u001b[0m\n\u001b[1;33m    def fun_test(m=6,n):\u001b[0m\n\u001b[1;37m                      ^\u001b[0m\n\u001b[1;31mSyntaxError\u001b[0m\u001b[1;31m:\u001b[0m non-default argument follows default argument\n"
     ]
    }
   ],
   "source": [
    "def fun_test(m=6,n):\n",
    "    return m+n"
   ]
  },
  {
   "cell_type": "markdown",
   "id": "9da6ddd4",
   "metadata": {},
   "source": [
    "### Q8.\tWhat’s recursion? Explain in your own words and write a program to create a recursive function to calculate the sum of numbers from 0 to 10"
   ]
  },
  {
   "cell_type": "code",
   "execution_count": 77,
   "id": "88265218",
   "metadata": {},
   "outputs": [],
   "source": [
    "\"\"\"Recursion means calling a function by itself. In other words calling the function inside the SAME FUNCTION\"\"\"\n",
    "def fun_sumn(x=0):\n",
    "        if x==10:\n",
    "            return 10\n",
    "        else:\n",
    "            return (x + fun_sumn(x + 1))\n",
    "\n"
   ]
  },
  {
   "cell_type": "code",
   "execution_count": 78,
   "id": "7744ea26",
   "metadata": {},
   "outputs": [
    {
     "data": {
      "text/plain": [
       "55"
      ]
     },
     "execution_count": 78,
     "metadata": {},
     "output_type": "execute_result"
    }
   ],
   "source": [
    "fun_sumn()"
   ]
  },
  {
   "cell_type": "markdown",
   "id": "6776e2f6",
   "metadata": {},
   "source": [
    "### Q9.\tUse filter and lambda function to calculate square for below numbers only if they are odd number\n",
    "a.\t[12, 11, 53, 22, 21, 77, 87, 88, 98]\n"
   ]
  },
  {
   "cell_type": "code",
   "execution_count": 3,
   "id": "9c46c597",
   "metadata": {},
   "outputs": [
    {
     "name": "stdout",
     "output_type": "stream",
     "text": [
      "[121, 2809, 441, 5929, 7569]\n"
     ]
    }
   ],
   "source": [
    "listn=[12, 11, 53, 22, 21, 77, 87, 88, 98]\n",
    "fil_lst=list(filter(lambda i:i%2==1,listn ))\n",
    "sqr_odd=list(map(lambda j:j*j, fil_lst))\n",
    "print(sqr_odd)"
   ]
  },
  {
   "cell_type": "markdown",
   "id": "abac0453",
   "metadata": {},
   "source": [
    "### Q10. Write a function (not a lambda function) and use it to demonstrate an example for map function (any logical function of your choice)"
   ]
  },
  {
   "cell_type": "code",
   "execution_count": 6,
   "id": "86d3be7f",
   "metadata": {},
   "outputs": [
    {
     "name": "stdout",
     "output_type": "stream",
     "text": [
      "[2, 4, 6, 10, 14]\n",
      "['S', 'A', 'N', 'K', 'A', 'R']\n"
     ]
    }
   ],
   "source": [
    "samp=[1,2,3,5,7]\n",
    "samp1=['s','a','n','k','a','r']\n",
    "map_samp=list(map(lambda x: x+x, samp))\n",
    "map_samp1=list(map(lambda y:y.upper(), samp1))\n",
    "print(map_samp)\n",
    "print(map_samp1)"
   ]
  }
 ],
 "metadata": {
  "kernelspec": {
   "display_name": "Python 3 (ipykernel)",
   "language": "python",
   "name": "python3"
  },
  "language_info": {
   "codemirror_mode": {
    "name": "ipython",
    "version": 3
   },
   "file_extension": ".py",
   "mimetype": "text/x-python",
   "name": "python",
   "nbconvert_exporter": "python",
   "pygments_lexer": "ipython3",
   "version": "3.9.7"
  }
 },
 "nbformat": 4,
 "nbformat_minor": 5
}
