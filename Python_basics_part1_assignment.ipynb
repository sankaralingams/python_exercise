{
 "cells": [
  {
   "cell_type": "markdown",
   "id": "27232854",
   "metadata": {},
   "source": [
    "### Q1: Import the necessary package "
   ]
  },
  {
   "cell_type": "code",
   "execution_count": 14,
   "id": "183cabce",
   "metadata": {},
   "outputs": [],
   "source": [
    "import os"
   ]
  },
  {
   "cell_type": "code",
   "execution_count": 15,
   "id": "67805394",
   "metadata": {},
   "outputs": [
    {
     "data": {
      "text/plain": [
       "'D:\\\\Sankar\\\\Trainings\\\\DataScience\\\\Python'"
      ]
     },
     "execution_count": 15,
     "metadata": {},
     "output_type": "execute_result"
    }
   ],
   "source": [
    "pwd"
   ]
  },
  {
   "cell_type": "code",
   "execution_count": 16,
   "id": "df77f121",
   "metadata": {},
   "outputs": [
    {
     "name": "stdout",
     "output_type": "stream",
     "text": [
      "D:\\Sankar\\Trainings\n"
     ]
    }
   ],
   "source": [
    "cd D:\\Sankar\\Trainings"
   ]
  },
  {
   "cell_type": "code",
   "execution_count": 17,
   "id": "c9293fcd",
   "metadata": {},
   "outputs": [
    {
     "data": {
      "text/plain": [
       "'D:\\\\Sankar\\\\Trainings'"
      ]
     },
     "execution_count": 17,
     "metadata": {},
     "output_type": "execute_result"
    }
   ],
   "source": [
    "pwd"
   ]
  },
  {
   "cell_type": "code",
   "execution_count": 18,
   "id": "f4c82ffd",
   "metadata": {},
   "outputs": [
    {
     "name": "stdout",
     "output_type": "stream",
     "text": [
      "D:\\Sankar\\Trainings\\DataScience\\Python\n"
     ]
    }
   ],
   "source": [
    "cd D:\\Sankar\\Trainings\\DataScience\\Python"
   ]
  },
  {
   "cell_type": "code",
   "execution_count": 19,
   "id": "4f89a61e",
   "metadata": {},
   "outputs": [
    {
     "data": {
      "text/plain": [
       "'D:\\\\Sankar\\\\Trainings\\\\DataScience\\\\Python'"
      ]
     },
     "execution_count": 19,
     "metadata": {},
     "output_type": "execute_result"
    }
   ],
   "source": [
    "pwd"
   ]
  },
  {
   "cell_type": "markdown",
   "id": "9a0e7443",
   "metadata": {},
   "source": [
    "### Q2: Create the string, int and float variable and delete them all in the next cell"
   ]
  },
  {
   "cell_type": "code",
   "execution_count": 20,
   "id": "0803a8f3",
   "metadata": {},
   "outputs": [],
   "source": [
    "str1 = \"String example\"\n",
    "int1=100\n",
    "float1=100.05"
   ]
  },
  {
   "cell_type": "code",
   "execution_count": 22,
   "id": "dbce62a2",
   "metadata": {},
   "outputs": [
    {
     "name": "stdout",
     "output_type": "stream",
     "text": [
      "String -> String example\n",
      "int-> 100\n",
      "float-> 100.05\n"
     ]
    }
   ],
   "source": [
    "print(\"String ->\",str1)\n",
    "print(\"int->\",int1)\n",
    "print(\"float->\",float1)"
   ]
  },
  {
   "cell_type": "code",
   "execution_count": 23,
   "id": "2f6aa564",
   "metadata": {},
   "outputs": [],
   "source": [
    "del str1, int1,float1"
   ]
  },
  {
   "cell_type": "code",
   "execution_count": 25,
   "id": "16da3467",
   "metadata": {},
   "outputs": [
    {
     "ename": "NameError",
     "evalue": "name 'int1' is not defined",
     "output_type": "error",
     "traceback": [
      "\u001b[1;31m---------------------------------------------------------------------------\u001b[0m",
      "\u001b[1;31mNameError\u001b[0m                                 Traceback (most recent call last)",
      "\u001b[1;32m~\\AppData\\Local\\Temp/ipykernel_10940/1707370545.py\u001b[0m in \u001b[0;36m<module>\u001b[1;34m\u001b[0m\n\u001b[0;32m      1\u001b[0m \u001b[1;31m#print(\"String ->\",str1)\u001b[0m\u001b[1;33m\u001b[0m\u001b[1;33m\u001b[0m\u001b[0m\n\u001b[1;32m----> 2\u001b[1;33m \u001b[0mprint\u001b[0m\u001b[1;33m(\u001b[0m\u001b[1;34m\"int->\"\u001b[0m\u001b[1;33m,\u001b[0m\u001b[0mint1\u001b[0m\u001b[1;33m)\u001b[0m\u001b[1;33m\u001b[0m\u001b[1;33m\u001b[0m\u001b[0m\n\u001b[0m\u001b[0;32m      3\u001b[0m \u001b[0mprint\u001b[0m\u001b[1;33m(\u001b[0m\u001b[1;34m\"float->\"\u001b[0m\u001b[1;33m,\u001b[0m\u001b[0mfloat1\u001b[0m\u001b[1;33m)\u001b[0m\u001b[1;33m\u001b[0m\u001b[1;33m\u001b[0m\u001b[0m\n",
      "\u001b[1;31mNameError\u001b[0m: name 'int1' is not defined"
     ]
    }
   ],
   "source": [
    "print(\"String ->\",str1)\n",
    "print(\"int->\",int1)\n",
    "print(\"float->\",float1)"
   ]
  },
  {
   "cell_type": "markdown",
   "id": "944978fc",
   "metadata": {},
   "source": [
    "#### In the above example, all the 3 variable got deleted due to (del command)"
   ]
  },
  {
   "cell_type": "markdown",
   "id": "eb271995",
   "metadata": {},
   "source": [
    "### Q3: What’s the result of assigning a value to a ‘keyword’"
   ]
  },
  {
   "cell_type": "code",
   "execution_count": 31,
   "id": "cb71193b",
   "metadata": {},
   "outputs": [
    {
     "ename": "SyntaxError",
     "evalue": "invalid syntax (Temp/ipykernel_10940/1546025672.py, line 1)",
     "output_type": "error",
     "traceback": [
      "\u001b[1;36m  File \u001b[1;32m\"C:\\Users\\Admin\\AppData\\Local\\Temp/ipykernel_10940/1546025672.py\"\u001b[1;36m, line \u001b[1;32m1\u001b[0m\n\u001b[1;33m    def = \"trying to assign string to keywork def\"\u001b[0m\n\u001b[1;37m        ^\u001b[0m\n\u001b[1;31mSyntaxError\u001b[0m\u001b[1;31m:\u001b[0m invalid syntax\n"
     ]
    }
   ],
   "source": [
    "def = \"trying to assign string to keywork def\""
   ]
  },
  {
   "cell_type": "code",
   "execution_count": 32,
   "id": "4ea50fbb",
   "metadata": {},
   "outputs": [
    {
     "ename": "SyntaxError",
     "evalue": "invalid syntax (Temp/ipykernel_10940/1549114973.py, line 1)",
     "output_type": "error",
     "traceback": [
      "\u001b[1;36m  File \u001b[1;32m\"C:\\Users\\Admin\\AppData\\Local\\Temp/ipykernel_10940/1549114973.py\"\u001b[1;36m, line \u001b[1;32m1\u001b[0m\n\u001b[1;33m    for = 10\u001b[0m\n\u001b[1;37m        ^\u001b[0m\n\u001b[1;31mSyntaxError\u001b[0m\u001b[1;31m:\u001b[0m invalid syntax\n"
     ]
    }
   ],
   "source": [
    "for = 10"
   ]
  },
  {
   "cell_type": "markdown",
   "id": "270b0596",
   "metadata": {},
   "source": [
    "### Q4.\tHow to write a multi-line statement and assign it to a variable (Note: Without using a backslash “\\” at the end of each line)"
   ]
  },
  {
   "cell_type": "code",
   "execution_count": 3,
   "id": "d3de220c",
   "metadata": {},
   "outputs": [],
   "source": [
    "statement1 = \"\"\"This is an example for multi-line\n",
    "statement. Lets see if this works?\n",
    "Backlast is not used at the end \"\"\""
   ]
  },
  {
   "cell_type": "code",
   "execution_count": 4,
   "id": "2e59d69e",
   "metadata": {},
   "outputs": [
    {
     "name": "stdout",
     "output_type": "stream",
     "text": [
      "This is an example for multi-line\n",
      "statement. Lets see if this works?\n",
      "Backlast is not used at the end \n"
     ]
    }
   ],
   "source": [
    "print(statement1)"
   ]
  },
  {
   "cell_type": "markdown",
   "id": "85ac49e3",
   "metadata": {},
   "source": [
    "### Q5. Print the list of numbers from 100 to 999 with an interval (step size) of 8 between the numbers"
   ]
  },
  {
   "cell_type": "code",
   "execution_count": 8,
   "id": "c2f2b216",
   "metadata": {},
   "outputs": [],
   "source": [
    "list1=list(range(100,999,9))"
   ]
  },
  {
   "cell_type": "code",
   "execution_count": 9,
   "id": "0dfbe3ff",
   "metadata": {},
   "outputs": [
    {
     "name": "stdout",
     "output_type": "stream",
     "text": [
      "[100, 109, 118, 127, 136, 145, 154, 163, 172, 181, 190, 199, 208, 217, 226, 235, 244, 253, 262, 271, 280, 289, 298, 307, 316, 325, 334, 343, 352, 361, 370, 379, 388, 397, 406, 415, 424, 433, 442, 451, 460, 469, 478, 487, 496, 505, 514, 523, 532, 541, 550, 559, 568, 577, 586, 595, 604, 613, 622, 631, 640, 649, 658, 667, 676, 685, 694, 703, 712, 721, 730, 739, 748, 757, 766, 775, 784, 793, 802, 811, 820, 829, 838, 847, 856, 865, 874, 883, 892, 901, 910, 919, 928, 937, 946, 955, 964, 973, 982, 991]\n"
     ]
    }
   ],
   "source": [
    "print(list1)"
   ]
  },
  {
   "cell_type": "markdown",
   "id": "8c760605",
   "metadata": {},
   "source": [
    "### Q6. Write a “for” loop to print out the ‘n’ values and break out of the statement if the value is ‘n/2’"
   ]
  },
  {
   "cell_type": "code",
   "execution_count": 16,
   "id": "75c1870e",
   "metadata": {},
   "outputs": [
    {
     "name": "stdout",
     "output_type": "stream",
     "text": [
      "0\n",
      "1\n",
      "2\n",
      "3\n",
      "4\n",
      "5\n"
     ]
    }
   ],
   "source": [
    "for a in range(10):\n",
    "    print(a)\n",
    "    if(a==10/2):\n",
    "        break"
   ]
  },
  {
   "cell_type": "markdown",
   "id": "90c5fdc2",
   "metadata": {},
   "source": [
    "### Q7.Write a simple function and call the docstring from outside the function"
   ]
  },
  {
   "cell_type": "code",
   "execution_count": 1,
   "id": "7a4cccc6",
   "metadata": {},
   "outputs": [],
   "source": [
    "def func1(a):\n",
    "    \"\"\"This is a function to print the range of numbers' \"\"\"\n",
    "    for a in range(a):\n",
    "        print(a)\n",
    "        "
   ]
  },
  {
   "cell_type": "code",
   "execution_count": 2,
   "id": "e4e6b002",
   "metadata": {},
   "outputs": [
    {
     "name": "stdout",
     "output_type": "stream",
     "text": [
      "0\n",
      "1\n",
      "2\n",
      "3\n",
      "4\n"
     ]
    }
   ],
   "source": [
    "func1(5)"
   ]
  },
  {
   "cell_type": "code",
   "execution_count": 3,
   "id": "566177a6",
   "metadata": {},
   "outputs": [
    {
     "name": "stdout",
     "output_type": "stream",
     "text": [
      "This is a function to print the range of numbers' \n"
     ]
    }
   ],
   "source": [
    "print(func1.__doc__)"
   ]
  },
  {
   "cell_type": "markdown",
   "id": "44d6f687",
   "metadata": {},
   "source": [
    "### Q8. Create a user-defined package in ‘site-packages’ "
   ]
  },
  {
   "cell_type": "code",
   "execution_count": 6,
   "id": "a5f0ec94",
   "metadata": {},
   "outputs": [],
   "source": [
    "from sankar_package import triangle_package as t"
   ]
  },
  {
   "cell_type": "code",
   "execution_count": 10,
   "id": "1e51d376",
   "metadata": {},
   "outputs": [],
   "source": [
    "a=t.a\n",
    "b=t.b\n",
    "c=t.c"
   ]
  },
  {
   "cell_type": "code",
   "execution_count": 11,
   "id": "fb575a09",
   "metadata": {},
   "outputs": [],
   "source": [
    "s=(a+b+c)/2"
   ]
  },
  {
   "cell_type": "code",
   "execution_count": 12,
   "id": "87033868",
   "metadata": {},
   "outputs": [],
   "source": [
    "area=(s*(s-a)*(s-b)*(s-c))**.5"
   ]
  },
  {
   "cell_type": "code",
   "execution_count": 14,
   "id": "6bf11ce2",
   "metadata": {},
   "outputs": [
    {
     "name": "stdout",
     "output_type": "stream",
     "text": [
      "Semi perimeter of triangle is  41.5\n",
      "Area of triangle is  (3.097937745838546e-14+505.93162828587816j)\n"
     ]
    }
   ],
   "source": [
    "print(\"Semi perimeter of triangle is \", s)\n",
    "print(\"Area of triangle is \",area)"
   ]
  },
  {
   "cell_type": "markdown",
   "id": "6993299d",
   "metadata": {},
   "source": [
    "### Q9. Write a list comprehension to print the odd numbers from 0 to 100"
   ]
  },
  {
   "cell_type": "code",
   "execution_count": 16,
   "id": "7743dd28",
   "metadata": {},
   "outputs": [
    {
     "data": {
      "text/plain": [
       "[1,\n",
       " 3,\n",
       " 5,\n",
       " 7,\n",
       " 9,\n",
       " 11,\n",
       " 13,\n",
       " 15,\n",
       " 17,\n",
       " 19,\n",
       " 21,\n",
       " 23,\n",
       " 25,\n",
       " 27,\n",
       " 29,\n",
       " 31,\n",
       " 33,\n",
       " 35,\n",
       " 37,\n",
       " 39,\n",
       " 41,\n",
       " 43,\n",
       " 45,\n",
       " 47,\n",
       " 49,\n",
       " 51,\n",
       " 53,\n",
       " 55,\n",
       " 57,\n",
       " 59,\n",
       " 61,\n",
       " 63,\n",
       " 65,\n",
       " 67,\n",
       " 69,\n",
       " 71,\n",
       " 73,\n",
       " 75,\n",
       " 77,\n",
       " 79,\n",
       " 81,\n",
       " 83,\n",
       " 85,\n",
       " 87,\n",
       " 89,\n",
       " 91,\n",
       " 93,\n",
       " 95,\n",
       " 97,\n",
       " 99]"
      ]
     },
     "execution_count": 16,
     "metadata": {},
     "output_type": "execute_result"
    }
   ],
   "source": [
    "[a for a in range(100) if a%2!=0]"
   ]
  },
  {
   "cell_type": "markdown",
   "id": "0d7c9e9c",
   "metadata": {},
   "source": [
    "### Q10. Create a variable (ex: name) and store your full name in it. Then write a list comprehension to print your name excluding vowels (a, e, i, o, u)"
   ]
  },
  {
   "cell_type": "code",
   "execution_count": 27,
   "id": "7cd32095",
   "metadata": {},
   "outputs": [
    {
     "name": "stdout",
     "output_type": "stream",
     "text": [
      "['s', 'n', 'k', 'r', 'l', 'n', 'g', 'm', ' ', 's', 'b', 'r', 'm', 'n', 'n']\n"
     ]
    }
   ],
   "source": [
    "name1 = \"sankaralingam subramanian\"\n",
    "name2= [i for i in name1 if i!='a' if i!='e' if i!='i' if i!='o' if i!='u']\n",
    "print(name2)"
   ]
  }
 ],
 "metadata": {
  "kernelspec": {
   "display_name": "Python 3 (ipykernel)",
   "language": "python",
   "name": "python3"
  },
  "language_info": {
   "codemirror_mode": {
    "name": "ipython",
    "version": 3
   },
   "file_extension": ".py",
   "mimetype": "text/x-python",
   "name": "python",
   "nbconvert_exporter": "python",
   "pygments_lexer": "ipython3",
   "version": "3.9.7"
  }
 },
 "nbformat": 4,
 "nbformat_minor": 5
}
