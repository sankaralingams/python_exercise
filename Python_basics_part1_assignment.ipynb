{
 "cells": [
  {
   "cell_type": "markdown",
   "id": "27232854",
   "metadata": {},
   "source": [
    "### Q1: Import the necessary package "
   ]
  },
  {
   "cell_type": "code",
   "execution_count": 14,
   "id": "183cabce",
   "metadata": {},
   "outputs": [],
   "source": [
    "import os"
   ]
  },
  {
   "cell_type": "code",
   "execution_count": 15,
   "id": "8780d51c",
   "metadata": {},
   "outputs": [
    {
     "data": {
      "text/plain": [
       "'D:\\\\Sankar\\\\Trainings\\\\DataScience\\\\Python'"
      ]
     },
     "execution_count": 15,
     "metadata": {},
     "output_type": "execute_result"
    }
   ],
   "source": [
    "pwd"
   ]
  },
  {
   "cell_type": "code",
   "execution_count": 16,
   "id": "b42bb7e7",
   "metadata": {},
   "outputs": [
    {
     "name": "stdout",
     "output_type": "stream",
     "text": [
      "D:\\Sankar\\Trainings\n"
     ]
    }
   ],
   "source": [
    "cd D:\\Sankar\\Trainings"
   ]
  },
  {
   "cell_type": "code",
   "execution_count": 17,
   "id": "6c9ab02e",
   "metadata": {},
   "outputs": [
    {
     "data": {
      "text/plain": [
       "'D:\\\\Sankar\\\\Trainings'"
      ]
     },
     "execution_count": 17,
     "metadata": {},
     "output_type": "execute_result"
    }
   ],
   "source": [
    "pwd"
   ]
  },
  {
   "cell_type": "code",
   "execution_count": 18,
   "id": "5458a909",
   "metadata": {},
   "outputs": [
    {
     "name": "stdout",
     "output_type": "stream",
     "text": [
      "D:\\Sankar\\Trainings\\DataScience\\Python\n"
     ]
    }
   ],
   "source": [
    "cd D:\\Sankar\\Trainings\\DataScience\\Python"
   ]
  },
  {
   "cell_type": "code",
   "execution_count": 19,
   "id": "6ac678b9",
   "metadata": {},
   "outputs": [
    {
     "data": {
      "text/plain": [
       "'D:\\\\Sankar\\\\Trainings\\\\DataScience\\\\Python'"
      ]
     },
     "execution_count": 19,
     "metadata": {},
     "output_type": "execute_result"
    }
   ],
   "source": [
    "pwd"
   ]
  },
  {
   "cell_type": "markdown",
   "id": "9aa593e4",
   "metadata": {},
   "source": [
    "### Q2: Create the string, int and float variable and delete them all in the next cell"
   ]
  },
  {
   "cell_type": "code",
   "execution_count": 20,
   "id": "932bddc5",
   "metadata": {},
   "outputs": [],
   "source": [
    "str1 = \"String example\"\n",
    "int1=100\n",
    "float1=100.05"
   ]
  },
  {
   "cell_type": "code",
   "execution_count": 22,
   "id": "9add4af3",
   "metadata": {},
   "outputs": [
    {
     "name": "stdout",
     "output_type": "stream",
     "text": [
      "String -> String example\n",
      "int-> 100\n",
      "float-> 100.05\n"
     ]
    }
   ],
   "source": [
    "print(\"String ->\",str1)\n",
    "print(\"int->\",int1)\n",
    "print(\"float->\",float1)"
   ]
  },
  {
   "cell_type": "code",
   "execution_count": 23,
   "id": "e18a89fe",
   "metadata": {},
   "outputs": [],
   "source": [
    "del str1, int1,float1"
   ]
  },
  {
   "cell_type": "code",
   "execution_count": 25,
   "id": "41021d29",
   "metadata": {},
   "outputs": [
    {
     "ename": "NameError",
     "evalue": "name 'int1' is not defined",
     "output_type": "error",
     "traceback": [
      "\u001b[1;31m---------------------------------------------------------------------------\u001b[0m",
      "\u001b[1;31mNameError\u001b[0m                                 Traceback (most recent call last)",
      "\u001b[1;32m~\\AppData\\Local\\Temp/ipykernel_10940/1707370545.py\u001b[0m in \u001b[0;36m<module>\u001b[1;34m\u001b[0m\n\u001b[0;32m      1\u001b[0m \u001b[1;31m#print(\"String ->\",str1)\u001b[0m\u001b[1;33m\u001b[0m\u001b[1;33m\u001b[0m\u001b[0m\n\u001b[1;32m----> 2\u001b[1;33m \u001b[0mprint\u001b[0m\u001b[1;33m(\u001b[0m\u001b[1;34m\"int->\"\u001b[0m\u001b[1;33m,\u001b[0m\u001b[0mint1\u001b[0m\u001b[1;33m)\u001b[0m\u001b[1;33m\u001b[0m\u001b[1;33m\u001b[0m\u001b[0m\n\u001b[0m\u001b[0;32m      3\u001b[0m \u001b[0mprint\u001b[0m\u001b[1;33m(\u001b[0m\u001b[1;34m\"float->\"\u001b[0m\u001b[1;33m,\u001b[0m\u001b[0mfloat1\u001b[0m\u001b[1;33m)\u001b[0m\u001b[1;33m\u001b[0m\u001b[1;33m\u001b[0m\u001b[0m\n",
      "\u001b[1;31mNameError\u001b[0m: name 'int1' is not defined"
     ]
    }
   ],
   "source": [
    "print(\"String ->\",str1)\n",
    "print(\"int->\",int1)\n",
    "print(\"float->\",float1)"
   ]
  },
  {
   "cell_type": "markdown",
   "id": "5a826b84",
   "metadata": {},
   "source": [
    "#### In the above example, all the 3 variable got deleted due to (del command)"
   ]
  },
  {
   "cell_type": "markdown",
   "id": "11c1d498",
   "metadata": {},
   "source": [
    "### Q3: What’s the result of assigning a value to a ‘keyword’"
   ]
  },
  {
   "cell_type": "code",
   "execution_count": 31,
   "id": "e3f88a50",
   "metadata": {},
   "outputs": [
    {
     "ename": "SyntaxError",
     "evalue": "invalid syntax (Temp/ipykernel_10940/1546025672.py, line 1)",
     "output_type": "error",
     "traceback": [
      "\u001b[1;36m  File \u001b[1;32m\"C:\\Users\\Admin\\AppData\\Local\\Temp/ipykernel_10940/1546025672.py\"\u001b[1;36m, line \u001b[1;32m1\u001b[0m\n\u001b[1;33m    def = \"trying to assign string to keywork def\"\u001b[0m\n\u001b[1;37m        ^\u001b[0m\n\u001b[1;31mSyntaxError\u001b[0m\u001b[1;31m:\u001b[0m invalid syntax\n"
     ]
    }
   ],
   "source": [
    "def = \"trying to assign string to keywork def\""
   ]
  },
  {
   "cell_type": "code",
   "execution_count": 32,
   "id": "b89a9896",
   "metadata": {},
   "outputs": [
    {
     "ename": "SyntaxError",
     "evalue": "invalid syntax (Temp/ipykernel_10940/1549114973.py, line 1)",
     "output_type": "error",
     "traceback": [
      "\u001b[1;36m  File \u001b[1;32m\"C:\\Users\\Admin\\AppData\\Local\\Temp/ipykernel_10940/1549114973.py\"\u001b[1;36m, line \u001b[1;32m1\u001b[0m\n\u001b[1;33m    for = 10\u001b[0m\n\u001b[1;37m        ^\u001b[0m\n\u001b[1;31mSyntaxError\u001b[0m\u001b[1;31m:\u001b[0m invalid syntax\n"
     ]
    }
   ],
   "source": [
    "for = 10"
   ]
  },
  {
   "cell_type": "markdown",
   "id": "98ed977d",
   "metadata": {},
   "source": [
    "### Q4.\tHow to write a multi-line statement and assign it to a variable (Note: Without using a backslash “\\” at the end of each line)"
   ]
  },
  {
   "cell_type": "code",
   "execution_count": 3,
   "id": "32141e47",
   "metadata": {},
   "outputs": [],
   "source": [
    "statement1 = \"\"\"This is an example for multi-line\n",
    "statement. Lets see if this works?\n",
    "Backlast is not used at the end \"\"\""
   ]
  },
  {
   "cell_type": "code",
   "execution_count": 4,
   "id": "bbdb4c7b",
   "metadata": {},
   "outputs": [
    {
     "name": "stdout",
     "output_type": "stream",
     "text": [
      "This is an example for multi-line\n",
      "statement. Lets see if this works?\n",
      "Backlast is not used at the end \n"
     ]
    }
   ],
   "source": [
    "print(statement1)"
   ]
  },
  {
   "cell_type": "markdown",
   "id": "5f15c9b2",
   "metadata": {},
   "source": [
    "### Q5. Print the list of numbers from 100 to 999 with an interval (step size) of 8 between the numbers"
   ]
  },
  {
   "cell_type": "code",
   "execution_count": 8,
   "id": "08c11ac6",
   "metadata": {},
   "outputs": [],
   "source": [
    "list1=list(range(100,999,9))"
   ]
  },
  {
   "cell_type": "code",
   "execution_count": 9,
   "id": "049e9c52",
   "metadata": {},
   "outputs": [
    {
     "name": "stdout",
     "output_type": "stream",
     "text": [
      "[100, 109, 118, 127, 136, 145, 154, 163, 172, 181, 190, 199, 208, 217, 226, 235, 244, 253, 262, 271, 280, 289, 298, 307, 316, 325, 334, 343, 352, 361, 370, 379, 388, 397, 406, 415, 424, 433, 442, 451, 460, 469, 478, 487, 496, 505, 514, 523, 532, 541, 550, 559, 568, 577, 586, 595, 604, 613, 622, 631, 640, 649, 658, 667, 676, 685, 694, 703, 712, 721, 730, 739, 748, 757, 766, 775, 784, 793, 802, 811, 820, 829, 838, 847, 856, 865, 874, 883, 892, 901, 910, 919, 928, 937, 946, 955, 964, 973, 982, 991]\n"
     ]
    }
   ],
   "source": [
    "print(list1)"
   ]
  },
  {
   "cell_type": "markdown",
   "id": "376196e1",
   "metadata": {},
   "source": [
    "### Q6. Write a “for” loop to print out the ‘n’ values and break out of the statement if the value is ‘n/2’"
   ]
  },
  {
   "cell_type": "code",
   "execution_count": 16,
   "id": "781c06cd",
   "metadata": {},
   "outputs": [
    {
     "name": "stdout",
     "output_type": "stream",
     "text": [
      "0\n",
      "1\n",
      "2\n",
      "3\n",
      "4\n",
      "5\n"
     ]
    }
   ],
   "source": [
    "for a in range(10):\n",
    "    print(a)\n",
    "    if(a==10/2):\n",
    "        break"
   ]
  },
  {
   "cell_type": "markdown",
   "id": "7fc7dc11",
   "metadata": {},
   "source": [
    "### Q7.Write a simple function and call the docstring from outside the function"
   ]
  },
  {
   "cell_type": "code",
   "execution_count": 1,
   "id": "228ed1ed",
   "metadata": {},
   "outputs": [],
   "source": [
    "def func1(a):\n",
    "    \"\"\"This is a function to print the range of numbers' \"\"\"\n",
    "    for a in range(a):\n",
    "        print(a)\n",
    "        "
   ]
  },
  {
   "cell_type": "code",
   "execution_count": 2,
   "id": "4e8f8b66",
   "metadata": {},
   "outputs": [
    {
     "name": "stdout",
     "output_type": "stream",
     "text": [
      "0\n",
      "1\n",
      "2\n",
      "3\n",
      "4\n"
     ]
    }
   ],
   "source": [
    "func1(5)"
   ]
  },
  {
   "cell_type": "code",
   "execution_count": 3,
   "id": "877c27a8",
   "metadata": {},
   "outputs": [
    {
     "name": "stdout",
     "output_type": "stream",
     "text": [
      "This is a function to print the range of numbers' \n"
     ]
    }
   ],
   "source": [
    "print(func1.__doc__)"
   ]
  },
  {
   "cell_type": "markdown",
   "id": "152a26bb",
   "metadata": {},
   "source": [
    "### Q8. Create a user-defined package in ‘site-packages’ "
   ]
  },
  {
   "cell_type": "code",
   "execution_count": 6,
   "id": "d92633ff",
   "metadata": {},
   "outputs": [],
   "source": [
    "from sankar_package import triangle_package as t"
   ]
  },
  {
   "cell_type": "code",
   "execution_count": 10,
   "id": "58b17447",
   "metadata": {},
   "outputs": [],
   "source": [
    "a=t.a\n",
    "b=t.b\n",
    "c=t.c"
   ]
  },
  {
   "cell_type": "code",
   "execution_count": 11,
   "id": "2e3a138e",
   "metadata": {},
   "outputs": [],
   "source": [
    "s=(a+b+c)/2"
   ]
  },
  {
   "cell_type": "code",
   "execution_count": 12,
   "id": "e19a789f",
   "metadata": {},
   "outputs": [],
   "source": [
    "area=(s*(s-a)*(s-b)*(s-c))**.5"
   ]
  },
  {
   "cell_type": "code",
   "execution_count": 14,
   "id": "3dfe4312",
   "metadata": {},
   "outputs": [
    {
     "name": "stdout",
     "output_type": "stream",
     "text": [
      "Semi perimeter of triangle is  41.5\n",
      "Area of triangle is  (3.097937745838546e-14+505.93162828587816j)\n"
     ]
    }
   ],
   "source": [
    "print(\"Semi perimeter of triangle is \", s)\n",
    "print(\"Area of triangle is \",area)"
   ]
  },
  {
   "cell_type": "markdown",
   "id": "7ee51801",
   "metadata": {},
   "source": [
    "### Q9. Write a list comprehension to print the odd numbers from 0 to 100"
   ]
  },
  {
   "cell_type": "code",
   "execution_count": 16,
   "id": "b3f0e91e",
   "metadata": {},
   "outputs": [
    {
     "data": {
      "text/plain": [
       "[1,\n",
       " 3,\n",
       " 5,\n",
       " 7,\n",
       " 9,\n",
       " 11,\n",
       " 13,\n",
       " 15,\n",
       " 17,\n",
       " 19,\n",
       " 21,\n",
       " 23,\n",
       " 25,\n",
       " 27,\n",
       " 29,\n",
       " 31,\n",
       " 33,\n",
       " 35,\n",
       " 37,\n",
       " 39,\n",
       " 41,\n",
       " 43,\n",
       " 45,\n",
       " 47,\n",
       " 49,\n",
       " 51,\n",
       " 53,\n",
       " 55,\n",
       " 57,\n",
       " 59,\n",
       " 61,\n",
       " 63,\n",
       " 65,\n",
       " 67,\n",
       " 69,\n",
       " 71,\n",
       " 73,\n",
       " 75,\n",
       " 77,\n",
       " 79,\n",
       " 81,\n",
       " 83,\n",
       " 85,\n",
       " 87,\n",
       " 89,\n",
       " 91,\n",
       " 93,\n",
       " 95,\n",
       " 97,\n",
       " 99]"
      ]
     },
     "execution_count": 16,
     "metadata": {},
     "output_type": "execute_result"
    }
   ],
   "source": [
    "[a for a in range(100) if a%2!=0]"
   ]
  },
  {
   "cell_type": "markdown",
   "id": "5c4c40dd",
   "metadata": {},
   "source": [
    "### Q10. Create a variable (ex: name) and store your full name in it. Then write a list comprehension to print your name excluding vowels (a, e, i, o, u)"
   ]
  },
  {
   "cell_type": "code",
   "execution_count": 30,
   "id": "60592f47",
   "metadata": {},
   "outputs": [
    {
     "name": "stdout",
     "output_type": "stream",
     "text": [
      "['s', 'n', 'k', 'r', 'l', 'n', 'g', 'm', ' ', 's', 'b', 'r', 'm', 'n', 'n']\n"
     ]
    }
   ],
   "source": [
    "name1 = \"sankaralingam subramanian\"\n",
    "vow=['a','e','i','o','u']\n",
    "name2= [i for i in name1 if i not in vow]\n",
    "print(name2)"
   ]
  }
 ],
 "metadata": {
  "kernelspec": {
   "display_name": "Python 3 (ipykernel)",
   "language": "python",
   "name": "python3"
  },
  "language_info": {
   "codemirror_mode": {
    "name": "ipython",
    "version": 3
   },
   "file_extension": ".py",
   "mimetype": "text/x-python",
   "name": "python",
   "nbconvert_exporter": "python",
   "pygments_lexer": "ipython3",
   "version": "3.9.7"
  }
 },
 "nbformat": 4,
 "nbformat_minor": 5
}
